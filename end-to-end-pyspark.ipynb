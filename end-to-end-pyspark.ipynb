{
 "cells": [
  {
   "cell_type": "code",
   "execution_count": 1,
   "metadata": {},
   "outputs": [],
   "source": [
    "from pyspark.sql import SparkSession\n",
    "from pylab import rcParams\n",
    "import matplotlib.pyplot as plt\n",
    "import seaborn as sns\n",
    "rcParams['figure.figsize'] = 22, 8\n",
    "rcParams['font.size'] = 14\n"
   ]
  },
  {
   "cell_type": "code",
   "execution_count": 2,
   "metadata": {},
   "outputs": [],
   "source": [
    "spark = SparkSession.builder.\\\n",
    "        master(\"local[*]\").\\\n",
    "        appName(\"churn-prediction\").\\\n",
    "        getOrCreate()"
   ]
  },
  {
   "cell_type": "code",
   "execution_count": 51,
   "metadata": {},
   "outputs": [],
   "source": [
    "sc = spark.sparkContext"
   ]
  },
  {
   "cell_type": "code",
   "execution_count": 3,
   "metadata": {},
   "outputs": [
    {
     "data": {
      "text/html": [
       "\n",
       "            <div>\n",
       "                <p><b>SparkSession - in-memory</b></p>\n",
       "                \n",
       "        <div>\n",
       "            <p><b>SparkContext</b></p>\n",
       "\n",
       "            <p><a href=\"http://rinmac452.domain.name:4041\">Spark UI</a></p>\n",
       "\n",
       "            <dl>\n",
       "              <dt>Version</dt>\n",
       "                <dd><code>v2.4.0</code></dd>\n",
       "              <dt>Master</dt>\n",
       "                <dd><code>local[*]</code></dd>\n",
       "              <dt>AppName</dt>\n",
       "                <dd><code>churn-prediction</code></dd>\n",
       "            </dl>\n",
       "        </div>\n",
       "        \n",
       "            </div>\n",
       "        "
      ],
      "text/plain": [
       "<pyspark.sql.session.SparkSession at 0x1a26c30950>"
      ]
     },
     "execution_count": 3,
     "metadata": {},
     "output_type": "execute_result"
    }
   ],
   "source": [
    "spark"
   ]
  },
  {
   "cell_type": "markdown",
   "metadata": {},
   "source": [
    "## Read data"
   ]
  },
  {
   "cell_type": "code",
   "execution_count": 4,
   "metadata": {},
   "outputs": [],
   "source": [
    "file_loc = \"/Users/rahul.bhatia/Desktop/end-to-end-pyspark-ml/churn-dataset.csv\"\n",
    "file_type = \"csv\"\n",
    "\n",
    "infer_schema = \"true\"\n",
    "first_row_is_header = \"true\"\n",
    "delimeter = \",\"\n",
    "\n",
    "df = spark.read.format(file_type)\\\n",
    "     .option(\"inferSchema\",infer_schema)\\\n",
    "     .option(\"header\",first_row_is_header)\\\n",
    "     .option(\"sep\",delimeter)\\\n",
    "     .option(\"nanValue\",' ')\\\n",
    "     .option(\"nullValue\",' ')\\\n",
    "     .load(file_loc)"
   ]
  },
  {
   "cell_type": "code",
   "execution_count": 5,
   "metadata": {},
   "outputs": [
    {
     "data": {
      "text/html": [
       "<div>\n",
       "<style scoped>\n",
       "    .dataframe tbody tr th:only-of-type {\n",
       "        vertical-align: middle;\n",
       "    }\n",
       "\n",
       "    .dataframe tbody tr th {\n",
       "        vertical-align: top;\n",
       "    }\n",
       "\n",
       "    .dataframe thead th {\n",
       "        text-align: right;\n",
       "    }\n",
       "</style>\n",
       "<table border=\"1\" class=\"dataframe\">\n",
       "  <thead>\n",
       "    <tr style=\"text-align: right;\">\n",
       "      <th></th>\n",
       "      <th>customerID</th>\n",
       "      <th>gender</th>\n",
       "      <th>SeniorCitizen</th>\n",
       "      <th>Partner</th>\n",
       "      <th>Dependents</th>\n",
       "      <th>tenure</th>\n",
       "      <th>PhoneService</th>\n",
       "      <th>MultipleLines</th>\n",
       "      <th>InternetService</th>\n",
       "      <th>OnlineSecurity</th>\n",
       "      <th>...</th>\n",
       "      <th>DeviceProtection</th>\n",
       "      <th>TechSupport</th>\n",
       "      <th>StreamingTV</th>\n",
       "      <th>StreamingMovies</th>\n",
       "      <th>Contract</th>\n",
       "      <th>PaperlessBilling</th>\n",
       "      <th>PaymentMethod</th>\n",
       "      <th>MonthlyCharges</th>\n",
       "      <th>TotalCharges</th>\n",
       "      <th>Churn</th>\n",
       "    </tr>\n",
       "  </thead>\n",
       "  <tbody>\n",
       "    <tr>\n",
       "      <th>0</th>\n",
       "      <td>7590-VHVEG</td>\n",
       "      <td>Female</td>\n",
       "      <td>0</td>\n",
       "      <td>Yes</td>\n",
       "      <td>No</td>\n",
       "      <td>1</td>\n",
       "      <td>No</td>\n",
       "      <td>No phone service</td>\n",
       "      <td>DSL</td>\n",
       "      <td>No</td>\n",
       "      <td>...</td>\n",
       "      <td>No</td>\n",
       "      <td>No</td>\n",
       "      <td>No</td>\n",
       "      <td>No</td>\n",
       "      <td>Month-to-month</td>\n",
       "      <td>Yes</td>\n",
       "      <td>Electronic check</td>\n",
       "      <td>29.85</td>\n",
       "      <td>29.85</td>\n",
       "      <td>No</td>\n",
       "    </tr>\n",
       "    <tr>\n",
       "      <th>1</th>\n",
       "      <td>5575-GNVDE</td>\n",
       "      <td>Male</td>\n",
       "      <td>0</td>\n",
       "      <td>No</td>\n",
       "      <td>No</td>\n",
       "      <td>34</td>\n",
       "      <td>Yes</td>\n",
       "      <td>No</td>\n",
       "      <td>DSL</td>\n",
       "      <td>Yes</td>\n",
       "      <td>...</td>\n",
       "      <td>Yes</td>\n",
       "      <td>No</td>\n",
       "      <td>No</td>\n",
       "      <td>No</td>\n",
       "      <td>One year</td>\n",
       "      <td>No</td>\n",
       "      <td>Mailed check</td>\n",
       "      <td>56.95</td>\n",
       "      <td>1889.50</td>\n",
       "      <td>No</td>\n",
       "    </tr>\n",
       "    <tr>\n",
       "      <th>2</th>\n",
       "      <td>3668-QPYBK</td>\n",
       "      <td>Male</td>\n",
       "      <td>0</td>\n",
       "      <td>No</td>\n",
       "      <td>No</td>\n",
       "      <td>2</td>\n",
       "      <td>Yes</td>\n",
       "      <td>No</td>\n",
       "      <td>DSL</td>\n",
       "      <td>Yes</td>\n",
       "      <td>...</td>\n",
       "      <td>No</td>\n",
       "      <td>No</td>\n",
       "      <td>No</td>\n",
       "      <td>No</td>\n",
       "      <td>Month-to-month</td>\n",
       "      <td>Yes</td>\n",
       "      <td>Mailed check</td>\n",
       "      <td>53.85</td>\n",
       "      <td>108.15</td>\n",
       "      <td>Yes</td>\n",
       "    </tr>\n",
       "    <tr>\n",
       "      <th>3</th>\n",
       "      <td>7795-CFOCW</td>\n",
       "      <td>Male</td>\n",
       "      <td>0</td>\n",
       "      <td>No</td>\n",
       "      <td>No</td>\n",
       "      <td>45</td>\n",
       "      <td>No</td>\n",
       "      <td>No phone service</td>\n",
       "      <td>DSL</td>\n",
       "      <td>Yes</td>\n",
       "      <td>...</td>\n",
       "      <td>Yes</td>\n",
       "      <td>Yes</td>\n",
       "      <td>No</td>\n",
       "      <td>No</td>\n",
       "      <td>One year</td>\n",
       "      <td>No</td>\n",
       "      <td>Bank transfer (automatic)</td>\n",
       "      <td>42.30</td>\n",
       "      <td>1840.75</td>\n",
       "      <td>No</td>\n",
       "    </tr>\n",
       "    <tr>\n",
       "      <th>4</th>\n",
       "      <td>9237-HQITU</td>\n",
       "      <td>Female</td>\n",
       "      <td>0</td>\n",
       "      <td>No</td>\n",
       "      <td>No</td>\n",
       "      <td>2</td>\n",
       "      <td>Yes</td>\n",
       "      <td>No</td>\n",
       "      <td>Fiber optic</td>\n",
       "      <td>No</td>\n",
       "      <td>...</td>\n",
       "      <td>No</td>\n",
       "      <td>No</td>\n",
       "      <td>No</td>\n",
       "      <td>No</td>\n",
       "      <td>Month-to-month</td>\n",
       "      <td>Yes</td>\n",
       "      <td>Electronic check</td>\n",
       "      <td>70.70</td>\n",
       "      <td>151.65</td>\n",
       "      <td>Yes</td>\n",
       "    </tr>\n",
       "  </tbody>\n",
       "</table>\n",
       "<p>5 rows × 21 columns</p>\n",
       "</div>"
      ],
      "text/plain": [
       "   customerID  gender  SeniorCitizen Partner Dependents  tenure PhoneService  \\\n",
       "0  7590-VHVEG  Female              0     Yes         No       1           No   \n",
       "1  5575-GNVDE    Male              0      No         No      34          Yes   \n",
       "2  3668-QPYBK    Male              0      No         No       2          Yes   \n",
       "3  7795-CFOCW    Male              0      No         No      45           No   \n",
       "4  9237-HQITU  Female              0      No         No       2          Yes   \n",
       "\n",
       "      MultipleLines InternetService OnlineSecurity  ... DeviceProtection  \\\n",
       "0  No phone service             DSL             No  ...               No   \n",
       "1                No             DSL            Yes  ...              Yes   \n",
       "2                No             DSL            Yes  ...               No   \n",
       "3  No phone service             DSL            Yes  ...              Yes   \n",
       "4                No     Fiber optic             No  ...               No   \n",
       "\n",
       "  TechSupport StreamingTV StreamingMovies        Contract PaperlessBilling  \\\n",
       "0          No          No              No  Month-to-month              Yes   \n",
       "1          No          No              No        One year               No   \n",
       "2          No          No              No  Month-to-month              Yes   \n",
       "3         Yes          No              No        One year               No   \n",
       "4          No          No              No  Month-to-month              Yes   \n",
       "\n",
       "               PaymentMethod MonthlyCharges  TotalCharges  Churn  \n",
       "0           Electronic check          29.85         29.85     No  \n",
       "1               Mailed check          56.95       1889.50     No  \n",
       "2               Mailed check          53.85        108.15    Yes  \n",
       "3  Bank transfer (automatic)          42.30       1840.75     No  \n",
       "4           Electronic check          70.70        151.65    Yes  \n",
       "\n",
       "[5 rows x 21 columns]"
      ]
     },
     "execution_count": 5,
     "metadata": {},
     "output_type": "execute_result"
    }
   ],
   "source": [
    "# For Better visualization\n",
    "df.limit(5).toPandas().head(5)"
   ]
  },
  {
   "cell_type": "code",
   "execution_count": 6,
   "metadata": {},
   "outputs": [
    {
     "name": "stdout",
     "output_type": "stream",
     "text": [
      "root\n",
      " |-- customerID: string (nullable = true)\n",
      " |-- gender: string (nullable = true)\n",
      " |-- SeniorCitizen: integer (nullable = true)\n",
      " |-- Partner: string (nullable = true)\n",
      " |-- Dependents: string (nullable = true)\n",
      " |-- tenure: integer (nullable = true)\n",
      " |-- PhoneService: string (nullable = true)\n",
      " |-- MultipleLines: string (nullable = true)\n",
      " |-- InternetService: string (nullable = true)\n",
      " |-- OnlineSecurity: string (nullable = true)\n",
      " |-- OnlineBackup: string (nullable = true)\n",
      " |-- DeviceProtection: string (nullable = true)\n",
      " |-- TechSupport: string (nullable = true)\n",
      " |-- StreamingTV: string (nullable = true)\n",
      " |-- StreamingMovies: string (nullable = true)\n",
      " |-- Contract: string (nullable = true)\n",
      " |-- PaperlessBilling: string (nullable = true)\n",
      " |-- PaymentMethod: string (nullable = true)\n",
      " |-- MonthlyCharges: double (nullable = true)\n",
      " |-- TotalCharges: double (nullable = true)\n",
      " |-- Churn: string (nullable = true)\n",
      "\n"
     ]
    }
   ],
   "source": [
    "df.printSchema()"
   ]
  },
  {
   "cell_type": "markdown",
   "metadata": {},
   "source": [
    "## NULL Checks"
   ]
  },
  {
   "cell_type": "code",
   "execution_count": 7,
   "metadata": {},
   "outputs": [
    {
     "name": "stdout",
     "output_type": "stream",
     "text": [
      "+----------+------+-------------+-------+----------+------+------------+-------------+---------------+--------------+------------+----------------+-----------+-----------+---------------+--------+----------------+-------------+--------------+------------+-----+\n",
      "|customerID|gender|SeniorCitizen|Partner|Dependents|tenure|PhoneService|MultipleLines|InternetService|OnlineSecurity|OnlineBackup|DeviceProtection|TechSupport|StreamingTV|StreamingMovies|Contract|PaperlessBilling|PaymentMethod|MonthlyCharges|TotalCharges|Churn|\n",
      "+----------+------+-------------+-------+----------+------+------------+-------------+---------------+--------------+------------+----------------+-----------+-----------+---------------+--------+----------------+-------------+--------------+------------+-----+\n",
      "|         0|     0|            0|      0|         0|     0|           0|            0|              0|             0|           0|               0|          0|          0|              0|       0|               0|            0|             0|          11|    0|\n",
      "+----------+------+-------------+-------+----------+------+------------+-------------+---------------+--------------+------------+----------------+-----------+-----------+---------------+--------+----------------+-------------+--------------+------------+-----+\n",
      "\n"
     ]
    }
   ],
   "source": [
    "from pyspark.sql.functions import isnan,when,count,col\n",
    "df.select([count(when(isnan(c) | col(c).isNull(),c)).alias(c) for c in df.columns]).show()"
   ]
  },
  {
   "cell_type": "markdown",
   "metadata": {},
   "source": [
    "## Create a temp table"
   ]
  },
  {
   "cell_type": "code",
   "execution_count": 8,
   "metadata": {},
   "outputs": [],
   "source": [
    "temp_table_name = \"churn_analysis\"\n",
    "df.createOrReplaceTempView(temp_table_name)"
   ]
  },
  {
   "cell_type": "markdown",
   "metadata": {},
   "source": [
    "## Some Exploratory Analysis"
   ]
  },
  {
   "cell_type": "markdown",
   "metadata": {},
   "source": [
    "Checking the class distribution"
   ]
  },
  {
   "cell_type": "code",
   "execution_count": 9,
   "metadata": {},
   "outputs": [
    {
     "name": "stdout",
     "output_type": "stream",
     "text": [
      "+-----+-----+\n",
      "|Churn|count|\n",
      "+-----+-----+\n",
      "|   No| 5174|\n",
      "|  Yes| 1869|\n",
      "+-----+-----+\n",
      "\n"
     ]
    }
   ],
   "source": [
    "df.groupBy('Churn').count().show()"
   ]
  },
  {
   "cell_type": "markdown",
   "metadata": {},
   "source": [
    "Some descriptive stats for numeric columns."
   ]
  },
  {
   "cell_type": "code",
   "execution_count": 10,
   "metadata": {},
   "outputs": [
    {
     "name": "stdout",
     "output_type": "stream",
     "text": [
      "+-------+------------------+------------------+------------------+\n",
      "|summary|            tenure|      TotalCharges|    MonthlyCharges|\n",
      "+-------+------------------+------------------+------------------+\n",
      "|  count|              7043|              7032|              7043|\n",
      "|   mean| 32.37114865824223|2283.3004408418697| 64.76169246059922|\n",
      "| stddev|24.559481023094442| 2266.771361883145|30.090047097678482|\n",
      "|    min|                 0|              18.8|             18.25|\n",
      "|    max|                72|            8684.8|            118.75|\n",
      "+-------+------------------+------------------+------------------+\n",
      "\n"
     ]
    }
   ],
   "source": [
    "df.select(\"tenure\",\"TotalCharges\",\"MonthlyCharges\").describe().show()"
   ]
  },
  {
   "cell_type": "markdown",
   "metadata": {},
   "source": [
    "Looking at churn by gender."
   ]
  },
  {
   "cell_type": "code",
   "execution_count": 11,
   "metadata": {},
   "outputs": [
    {
     "name": "stdout",
     "output_type": "stream",
     "text": [
      "+------+-----+--------+\n",
      "|gender|churn|count(1)|\n",
      "+------+-----+--------+\n",
      "|  Male|   No|    2625|\n",
      "|  Male|  Yes|     930|\n",
      "|Female|   No|    2549|\n",
      "|Female|  Yes|     939|\n",
      "+------+-----+--------+\n",
      "\n"
     ]
    }
   ],
   "source": [
    "spark.sql(\"select gender,churn,count(*) from churn_analysis group by gender,churn\").show()"
   ]
  },
  {
   "cell_type": "markdown",
   "metadata": {},
   "source": [
    "Above hints that gender might not be relevant feature in this dataset to predict churn."
   ]
  },
  {
   "cell_type": "markdown",
   "metadata": {},
   "source": [
    "Looking at churn by gender."
   ]
  },
  {
   "cell_type": "code",
   "execution_count": 12,
   "metadata": {},
   "outputs": [
    {
     "name": "stdout",
     "output_type": "stream",
     "text": [
      "+-------------+-----+--------+\n",
      "|SeniorCitizen|churn|count(1)|\n",
      "+-------------+-----+--------+\n",
      "|            1|   No|     666|\n",
      "|            0|   No|    4508|\n",
      "|            0|  Yes|    1393|\n",
      "|            1|  Yes|     476|\n",
      "+-------------+-----+--------+\n",
      "\n"
     ]
    }
   ],
   "source": [
    "spark.sql(\"select SeniorCitizen,churn,count(*) from churn_analysis group by SeniorCitizen,churn\").show()"
   ]
  },
  {
   "cell_type": "markdown",
   "metadata": {},
   "source": [
    "Above hints that Senior Citizens are more likely to churn."
   ]
  },
  {
   "cell_type": "markdown",
   "metadata": {},
   "source": [
    "### Relation between Churn and Tenure"
   ]
  },
  {
   "cell_type": "code",
   "execution_count": 13,
   "metadata": {},
   "outputs": [
    {
     "name": "stdout",
     "output_type": "stream",
     "text": [
      "+------+-----+------------+\n",
      "|tenure|churn|count(churn)|\n",
      "+------+-----+------------+\n",
      "|     0|   No|          11|\n",
      "|     1|  Yes|         380|\n",
      "|     1|   No|         233|\n",
      "|     2|   No|         115|\n",
      "|     2|  Yes|         123|\n",
      "|     3|  Yes|          94|\n",
      "|     3|   No|         106|\n",
      "|     4|   No|          93|\n",
      "|     4|  Yes|          83|\n",
      "|     5|  Yes|          64|\n",
      "|     5|   No|          69|\n",
      "|     6|  Yes|          40|\n",
      "|     6|   No|          70|\n",
      "|     7|  Yes|          51|\n",
      "|     7|   No|          80|\n",
      "|     8|  Yes|          42|\n",
      "|     8|   No|          81|\n",
      "|     9|  Yes|          46|\n",
      "|     9|   No|          73|\n",
      "|    10|   No|          71|\n",
      "+------+-----+------------+\n",
      "only showing top 20 rows\n",
      "\n"
     ]
    }
   ],
   "source": [
    "spark.sql(\"select cast(tenure as int), churn, count(churn) from churn_analysis group by tenure,churn order by \\\n",
    "           cast(tenure as int)\").show()"
   ]
  },
  {
   "cell_type": "markdown",
   "metadata": {},
   "source": [
    "Visualizing above - "
   ]
  },
  {
   "cell_type": "code",
   "execution_count": 14,
   "metadata": {},
   "outputs": [],
   "source": [
    "tenure_churn_df = spark.sql(\"select cast(tenure as int), churn, count(churn) from churn_analysis group by tenure,churn order by \\\n",
    "           cast(tenure as int)\").toPandas()"
   ]
  },
  {
   "cell_type": "code",
   "execution_count": 15,
   "metadata": {},
   "outputs": [
    {
     "data": {
      "text/html": [
       "<div>\n",
       "<style scoped>\n",
       "    .dataframe tbody tr th:only-of-type {\n",
       "        vertical-align: middle;\n",
       "    }\n",
       "\n",
       "    .dataframe tbody tr th {\n",
       "        vertical-align: top;\n",
       "    }\n",
       "\n",
       "    .dataframe thead th {\n",
       "        text-align: right;\n",
       "    }\n",
       "</style>\n",
       "<table border=\"1\" class=\"dataframe\">\n",
       "  <thead>\n",
       "    <tr style=\"text-align: right;\">\n",
       "      <th></th>\n",
       "      <th>tenure</th>\n",
       "      <th>churn</th>\n",
       "      <th>count(churn)</th>\n",
       "    </tr>\n",
       "  </thead>\n",
       "  <tbody>\n",
       "    <tr>\n",
       "      <th>0</th>\n",
       "      <td>0</td>\n",
       "      <td>No</td>\n",
       "      <td>11</td>\n",
       "    </tr>\n",
       "    <tr>\n",
       "      <th>1</th>\n",
       "      <td>1</td>\n",
       "      <td>No</td>\n",
       "      <td>233</td>\n",
       "    </tr>\n",
       "    <tr>\n",
       "      <th>2</th>\n",
       "      <td>1</td>\n",
       "      <td>Yes</td>\n",
       "      <td>380</td>\n",
       "    </tr>\n",
       "    <tr>\n",
       "      <th>3</th>\n",
       "      <td>2</td>\n",
       "      <td>No</td>\n",
       "      <td>115</td>\n",
       "    </tr>\n",
       "    <tr>\n",
       "      <th>4</th>\n",
       "      <td>2</td>\n",
       "      <td>Yes</td>\n",
       "      <td>123</td>\n",
       "    </tr>\n",
       "  </tbody>\n",
       "</table>\n",
       "</div>"
      ],
      "text/plain": [
       "   tenure churn  count(churn)\n",
       "0       0    No            11\n",
       "1       1    No           233\n",
       "2       1   Yes           380\n",
       "3       2    No           115\n",
       "4       2   Yes           123"
      ]
     },
     "execution_count": 15,
     "metadata": {},
     "output_type": "execute_result"
    }
   ],
   "source": [
    "tenure_churn_df.head()"
   ]
  },
  {
   "cell_type": "markdown",
   "metadata": {},
   "source": [
    "### Bar Plot"
   ]
  },
  {
   "cell_type": "code",
   "execution_count": 16,
   "metadata": {},
   "outputs": [
    {
     "data": {
      "image/png": "[encoded data removed]",
      "text/plain": [
       "<Figure size 1584x576 with 1 Axes>"
      ]
     },
     "metadata": {
      "needs_background": "light"
     },
     "output_type": "display_data"
    }
   ],
   "source": [
    "ax = sns.barplot(x = \"tenure\",y=\"count(churn)\",hue=\"churn\",data=tenure_churn_df)\n",
    "\n",
    "# Show xticks for only multiple of 3\n",
    "for ind, label in enumerate(ax.get_xticklabels()):\n",
    "    if ind % 3 == 0:\n",
    "        label.set_visible(True)\n",
    "    else:\n",
    "        label.set_visible(False)"
   ]
  },
  {
   "cell_type": "markdown",
   "metadata": {},
   "source": [
    "Customer tend to churn more in the initial tenure, but as tenure increases, churn decreases."
   ]
  },
  {
   "cell_type": "markdown",
   "metadata": {},
   "source": [
    "### Checking the internet service used by Senior Citizens\n",
    "\n",
    "Since senior citizens are churning more, let's analyze what type of internet service do they use."
   ]
  },
  {
   "cell_type": "markdown",
   "metadata": {},
   "source": [
    "**crosstab** computes a pair-wise frequency table of the given columns."
   ]
  },
  {
   "cell_type": "code",
   "execution_count": 17,
   "metadata": {},
   "outputs": [
    {
     "name": "stdout",
     "output_type": "stream",
     "text": [
      "+-----------------------------+----+-----------+----+\n",
      "|SeniorCitizen_InternetService| DSL|Fiber optic|  No|\n",
      "+-----------------------------+----+-----------+----+\n",
      "|                            1| 259|        831|  52|\n",
      "|                            0|2162|       2265|1474|\n",
      "+-----------------------------+----+-----------+----+\n",
      "\n"
     ]
    }
   ],
   "source": [
    "df.stat.crosstab(\"SeniorCitizen\",\"InternetService\").show()"
   ]
  },
  {
   "cell_type": "markdown",
   "metadata": {},
   "source": [
    "### Checking frequent columns for the categorical variables"
   ]
  },
  {
   "cell_type": "code",
   "execution_count": 18,
   "metadata": {},
   "outputs": [
    {
     "data": {
      "text/plain": [
       "[Row(PhoneService_freqItems=['Yes'], MultipleLines_freqItems=['Yes'], InternetService_freqItems=['Fiber optic'], OnlineSecurity_freqItems=['No'], OnlineBackup_freqItems=['Yes'], DeviceProtection_freqItems=['No'], TechSupport_freqItems=['No'], StreamingTV_freqItems=['Yes'], StreamingMovies_freqItems=['No'])]"
      ]
     },
     "execution_count": 18,
     "metadata": {},
     "output_type": "execute_result"
    }
   ],
   "source": [
    "df.stat.freqItems(['PhoneService',\n",
    " 'MultipleLines',\n",
    " 'InternetService',\n",
    " 'OnlineSecurity',\n",
    " 'OnlineBackup',\n",
    " 'DeviceProtection',\n",
    " 'TechSupport',\n",
    " 'StreamingTV',\n",
    " 'StreamingMovies'],0.6).collect()"
   ]
  },
  {
   "cell_type": "markdown",
   "metadata": {},
   "source": [
    "### Paperless Billing and Payment method impact on Churn"
   ]
  },
  {
   "cell_type": "code",
   "execution_count": 19,
   "metadata": {},
   "outputs": [
    {
     "name": "stdout",
     "output_type": "stream",
     "text": [
      "+----------------+-----+--------+\n",
      "|PaperlessBilling|churn|count(1)|\n",
      "+----------------+-----+--------+\n",
      "|             Yes|  Yes|    1400|\n",
      "|              No|   No|    2403|\n",
      "|             Yes|   No|    2771|\n",
      "|              No|  Yes|     469|\n",
      "+----------------+-----+--------+\n",
      "\n"
     ]
    }
   ],
   "source": [
    "spark.sql('''\n",
    "    select PaperlessBilling, churn, count(*) from churn_analysis group by PaperlessBilling, churn\n",
    "''').show()"
   ]
  },
  {
   "cell_type": "markdown",
   "metadata": {},
   "source": [
    "Above shows that people who opt for paper-less billing are more liekly to churn. This is just a correlation not causation."
   ]
  },
  {
   "cell_type": "code",
   "execution_count": 20,
   "metadata": {},
   "outputs": [
    {
     "name": "stdout",
     "output_type": "stream",
     "text": [
      "+--------------------+-----+--------+\n",
      "|       PaymentMethod|churn|count(1)|\n",
      "+--------------------+-----+--------+\n",
      "|Credit card (auto...|   No|    1290|\n",
      "|Bank transfer (au...|   No|    1286|\n",
      "|        Mailed check|  Yes|     308|\n",
      "|Credit card (auto...|  Yes|     232|\n",
      "|    Electronic check|   No|    1294|\n",
      "|    Electronic check|  Yes|    1071|\n",
      "|Bank transfer (au...|  Yes|     258|\n",
      "|        Mailed check|   No|    1304|\n",
      "+--------------------+-----+--------+\n",
      "\n"
     ]
    }
   ],
   "source": [
    "spark.sql('''\n",
    "    select PaymentMethod, churn, count(*) from churn_analysis group by PaymentMethod, churn\n",
    "''').show()"
   ]
  },
  {
   "cell_type": "markdown",
   "metadata": {},
   "source": [
    "## Data Preprocessing, Machine Learning and Evaluation"
   ]
  },
  {
   "cell_type": "markdown",
   "metadata": {},
   "source": [
    "### Random split into train-test"
   ]
  },
  {
   "cell_type": "code",
   "execution_count": 21,
   "metadata": {},
   "outputs": [
    {
     "name": "stdout",
     "output_type": "stream",
     "text": [
      "Records for training: 4916\n",
      "Records for evaluation: 2127\n"
     ]
    }
   ],
   "source": [
    "churn_df = df\n",
    "(train_data, test_data) = churn_df.randomSplit([0.7, 0.3], 24)\n",
    "\n",
    "print(\"Records for training: \" + str(train_data.count()))\n",
    "print(\"Records for evaluation: \" + str(test_data.count()))"
   ]
  },
  {
   "cell_type": "markdown",
   "metadata": {},
   "source": [
    "### Building stages for pipelines"
   ]
  },
  {
   "cell_type": "code",
   "execution_count": 22,
   "metadata": {},
   "outputs": [],
   "source": [
    "from pyspark.ml import Pipeline\n",
    "from pyspark.ml.feature import OneHotEncoderEstimator, StringIndexer, VectorAssembler\n",
    "\n",
    "catColumns = [\"gender\", \"SeniorCitizen\", \"Partner\", \"Dependents\", \"PhoneService\", \"MultipleLines\", \"InternetService\", \"OnlineSecurity\",\"OnlineBackup\",\"DeviceProtection\",\"TechSupport\",\"StreamingTV\",\"StreamingMovies\",\"Contract\",\"PaperlessBilling\",\"PaymentMethod\"]"
   ]
  },
  {
   "cell_type": "code",
   "execution_count": 23,
   "metadata": {},
   "outputs": [],
   "source": [
    "stages= []\n",
    "\n",
    "for catCol in catColumns:\n",
    "    # StringIndexer is very similar to LabelEncoder from sklearn\n",
    "    stringIndexer = StringIndexer(inputCol=catCol, outputCol=catCol + \"Index\")\n",
    "    \n",
    "    oneHotEncoder = OneHotEncoderEstimator(inputCols=[stringIndexer.getOutputCol()], outputCols=[catCol + \"catVec\"])\n",
    "\n",
    "    stages += [stringIndexer, oneHotEncoder]"
   ]
  },
  {
   "cell_type": "code",
   "execution_count": 24,
   "metadata": {},
   "outputs": [
    {
     "data": {
      "text/plain": [
       "[StringIndexer_31b0edfe0ace,\n",
       " OneHotEncoderEstimator_75db1e050334,\n",
       " StringIndexer_44614879139b,\n",
       " OneHotEncoderEstimator_6704b115cfaf,\n",
       " StringIndexer_3f21df3ec6e9,\n",
       " OneHotEncoderEstimator_9ad424a9553a,\n",
       " StringIndexer_5259d01da90c,\n",
       " OneHotEncoderEstimator_e939df053771,\n",
       " StringIndexer_7d1b2752b67d,\n",
       " OneHotEncoderEstimator_ba7b6e9a5725,\n",
       " StringIndexer_e3125d8f7a71,\n",
       " OneHotEncoderEstimator_f83e99fe6f44,\n",
       " StringIndexer_d3364c844645,\n",
       " OneHotEncoderEstimator_417cab04fd2b,\n",
       " StringIndexer_1d04064f27a7,\n",
       " OneHotEncoderEstimator_025d598fee25,\n",
       " StringIndexer_a729091c8e2c,\n",
       " OneHotEncoderEstimator_9b3df4576c1c,\n",
       " StringIndexer_f6473407a5bb,\n",
       " OneHotEncoderEstimator_44475275b48e,\n",
       " StringIndexer_2ef210b03583,\n",
       " OneHotEncoderEstimator_c4256988dd2c,\n",
       " StringIndexer_54ba80aee14a,\n",
       " OneHotEncoderEstimator_640e5c042a6f,\n",
       " StringIndexer_cf0c49a2e1dc,\n",
       " OneHotEncoderEstimator_e4e1c0d81ac9,\n",
       " StringIndexer_4a3d2c1421db,\n",
       " OneHotEncoderEstimator_e22072848afa,\n",
       " StringIndexer_f95a64ef657b,\n",
       " OneHotEncoderEstimator_d6d7252ff50e,\n",
       " StringIndexer_8c1cb0aaaff8,\n",
       " OneHotEncoderEstimator_f641a909e7da]"
      ]
     },
     "execution_count": 24,
     "metadata": {},
     "output_type": "execute_result"
    }
   ],
   "source": [
    "# For each categorical variable, we have a string indexer and a one-hot-encoder.\n",
    "stages"
   ]
  },
  {
   "cell_type": "markdown",
   "metadata": {},
   "source": [
    "### Handling numeric values(imputation)"
   ]
  },
  {
   "cell_type": "code",
   "execution_count": 25,
   "metadata": {},
   "outputs": [],
   "source": [
    "## The column TotalCharges has some missing values, we needs to be imputed.\n",
    "\n",
    "# Mean imputation happens by default\n",
    "from pyspark.ml.feature import Imputer\n",
    "imputer = Imputer(inputCols=[\"TotalCharges\"], outputCols=[\"Out_TotalCharges\"])\n",
    "stages += [imputer]"
   ]
  },
  {
   "cell_type": "code",
   "execution_count": 26,
   "metadata": {},
   "outputs": [],
   "source": [
    "# Convert Yes/No in the dependent variable to 0/1\n",
    "label_Idx = StringIndexer(inputCol=\"Churn\", outputCol=\"label\")\n",
    "stages += [label_Idx]"
   ]
  },
  {
   "cell_type": "markdown",
   "metadata": {},
   "source": [
    "### Some Feature Engineering and selection"
   ]
  },
  {
   "cell_type": "code",
   "execution_count": 27,
   "metadata": {},
   "outputs": [
    {
     "data": {
      "text/plain": [
       "0.6511738315787813"
      ]
     },
     "execution_count": 27,
     "metadata": {},
     "output_type": "execute_result"
    }
   ],
   "source": [
    "# We can check the correlation to decide which one we can keep amongst TotalCharges and MonthlyCharges, here we can keep both\n",
    "df.stat.corr('TotalCharges', 'MonthlyCharges')"
   ]
  },
  {
   "cell_type": "code",
   "execution_count": 28,
   "metadata": {},
   "outputs": [
    {
     "name": "stdout",
     "output_type": "stream",
     "text": [
      "+------+-----+-------+\n",
      "|tenure|churn|churned|\n",
      "+------+-----+-------+\n",
      "|     1|  Yes|    380|\n",
      "|     2|  Yes|    123|\n",
      "|     3|  Yes|     94|\n",
      "|     4|  Yes|     83|\n",
      "|     5|  Yes|     64|\n",
      "|     6|  Yes|     40|\n",
      "|     7|  Yes|     51|\n",
      "|     8|  Yes|     42|\n",
      "|     9|  Yes|     46|\n",
      "|    10|  Yes|     45|\n",
      "|    11|  Yes|     31|\n",
      "|    12|  Yes|     38|\n",
      "|    13|  Yes|     38|\n",
      "|    14|  Yes|     24|\n",
      "|    15|  Yes|     37|\n",
      "|    16|  Yes|     28|\n",
      "|    17|  Yes|     26|\n",
      "|    18|  Yes|     24|\n",
      "|    19|  Yes|     19|\n",
      "|    20|  Yes|     18|\n",
      "+------+-----+-------+\n",
      "only showing top 20 rows\n",
      "\n"
     ]
    }
   ],
   "source": [
    "spark.sql('''\n",
    "select cast(tenure as int), churn, count(*) as churned from churn_analysis where churn='Yes' \\\n",
    "group by tenure, churn order by cast(tenure as int)\n",
    "''').show()"
   ]
  },
  {
   "cell_type": "markdown",
   "metadata": {},
   "source": [
    "We can see that as tenure increases, churn decreases, we can bin the tenure column."
   ]
  },
  {
   "cell_type": "markdown",
   "metadata": {},
   "source": [
    "### Binning tenure"
   ]
  },
  {
   "cell_type": "code",
   "execution_count": 29,
   "metadata": {},
   "outputs": [],
   "source": [
    "# QuantileDiscretizer can be used to bin\n",
    "from pyspark.ml.feature import QuantileDiscretizer\n",
    "tenure_bin = QuantileDiscretizer(numBuckets=3, inputCol=\"tenure\", outputCol=\"tenure_bin\")\n",
    "stages += [tenure_bin]"
   ]
  },
  {
   "cell_type": "markdown",
   "metadata": {},
   "source": [
    "## Create a vectorAssembler for final ML Model"
   ]
  },
  {
   "cell_type": "code",
   "execution_count": 30,
   "metadata": {},
   "outputs": [],
   "source": [
    "numericCols = [\"tenure_bin\", \"Out_TotalCharges\",\"MonthlyCharges\"]\n",
    "assembleInputs = assemblerInputs = [c + \"catVec\" for c in catColumns] + numericCols\n",
    "assembler = VectorAssembler(inputCols=assembleInputs, outputCol=\"features\")\n",
    "stages += [assembler]"
   ]
  },
  {
   "cell_type": "markdown",
   "metadata": {},
   "source": [
    "## Create the final pipeline"
   ]
  },
  {
   "cell_type": "code",
   "execution_count": 32,
   "metadata": {},
   "outputs": [],
   "source": [
    "pipeline = Pipeline().setStages(stages)\n",
    "pipelineModel = pipeline.fit(train_data)"
   ]
  },
  {
   "cell_type": "code",
   "execution_count": 33,
   "metadata": {},
   "outputs": [],
   "source": [
    "# Finally transform using the above pipeline\n",
    "trainprepDF = pipelineModel.transform(train_data)\n",
    "testprepDF = pipelineModel.transform(test_data)"
   ]
  },
  {
   "cell_type": "code",
   "execution_count": 35,
   "metadata": {},
   "outputs": [
    {
     "name": "stdout",
     "output_type": "stream",
     "text": [
      "root\n",
      " |-- customerID: string (nullable = true)\n",
      " |-- gender: string (nullable = true)\n",
      " |-- SeniorCitizen: integer (nullable = true)\n",
      " |-- Partner: string (nullable = true)\n",
      " |-- Dependents: string (nullable = true)\n",
      " |-- tenure: integer (nullable = true)\n",
      " |-- PhoneService: string (nullable = true)\n",
      " |-- MultipleLines: string (nullable = true)\n",
      " |-- InternetService: string (nullable = true)\n",
      " |-- OnlineSecurity: string (nullable = true)\n",
      " |-- OnlineBackup: string (nullable = true)\n",
      " |-- DeviceProtection: string (nullable = true)\n",
      " |-- TechSupport: string (nullable = true)\n",
      " |-- StreamingTV: string (nullable = true)\n",
      " |-- StreamingMovies: string (nullable = true)\n",
      " |-- Contract: string (nullable = true)\n",
      " |-- PaperlessBilling: string (nullable = true)\n",
      " |-- PaymentMethod: string (nullable = true)\n",
      " |-- MonthlyCharges: double (nullable = true)\n",
      " |-- TotalCharges: double (nullable = true)\n",
      " |-- Churn: string (nullable = true)\n",
      " |-- genderIndex: double (nullable = false)\n",
      " |-- gendercatVec: vector (nullable = true)\n",
      " |-- SeniorCitizenIndex: double (nullable = false)\n",
      " |-- SeniorCitizencatVec: vector (nullable = true)\n",
      " |-- PartnerIndex: double (nullable = false)\n",
      " |-- PartnercatVec: vector (nullable = true)\n",
      " |-- DependentsIndex: double (nullable = false)\n",
      " |-- DependentscatVec: vector (nullable = true)\n",
      " |-- PhoneServiceIndex: double (nullable = false)\n",
      " |-- PhoneServicecatVec: vector (nullable = true)\n",
      " |-- MultipleLinesIndex: double (nullable = false)\n",
      " |-- MultipleLinescatVec: vector (nullable = true)\n",
      " |-- InternetServiceIndex: double (nullable = false)\n",
      " |-- InternetServicecatVec: vector (nullable = true)\n",
      " |-- OnlineSecurityIndex: double (nullable = false)\n",
      " |-- OnlineSecuritycatVec: vector (nullable = true)\n",
      " |-- OnlineBackupIndex: double (nullable = false)\n",
      " |-- OnlineBackupcatVec: vector (nullable = true)\n",
      " |-- DeviceProtectionIndex: double (nullable = false)\n",
      " |-- DeviceProtectioncatVec: vector (nullable = true)\n",
      " |-- TechSupportIndex: double (nullable = false)\n",
      " |-- TechSupportcatVec: vector (nullable = true)\n",
      " |-- StreamingTVIndex: double (nullable = false)\n",
      " |-- StreamingTVcatVec: vector (nullable = true)\n",
      " |-- StreamingMoviesIndex: double (nullable = false)\n",
      " |-- StreamingMoviescatVec: vector (nullable = true)\n",
      " |-- ContractIndex: double (nullable = false)\n",
      " |-- ContractcatVec: vector (nullable = true)\n",
      " |-- PaperlessBillingIndex: double (nullable = false)\n",
      " |-- PaperlessBillingcatVec: vector (nullable = true)\n",
      " |-- PaymentMethodIndex: double (nullable = false)\n",
      " |-- PaymentMethodcatVec: vector (nullable = true)\n",
      " |-- Out_TotalCharges: double (nullable = true)\n",
      " |-- label: double (nullable = false)\n",
      " |-- tenure_bin: double (nullable = true)\n",
      " |-- features: vector (nullable = true)\n",
      "\n"
     ]
    }
   ],
   "source": [
    "trainprepDF.printSchema()"
   ]
  },
  {
   "cell_type": "code",
   "execution_count": 36,
   "metadata": {},
   "outputs": [
    {
     "name": "stdout",
     "output_type": "stream",
     "text": [
      "+----------+\n",
      "|tenure_bin|\n",
      "+----------+\n",
      "|       0.0|\n",
      "|       0.0|\n",
      "|       2.0|\n",
      "|       0.0|\n",
      "|       2.0|\n",
      "|       2.0|\n",
      "|       0.0|\n",
      "|       2.0|\n",
      "|       0.0|\n",
      "|       1.0|\n",
      "|       2.0|\n",
      "|       0.0|\n",
      "|       1.0|\n",
      "|       0.0|\n",
      "|       0.0|\n",
      "|       2.0|\n",
      "|       1.0|\n",
      "|       2.0|\n",
      "|       2.0|\n",
      "|       1.0|\n",
      "+----------+\n",
      "only showing top 20 rows\n",
      "\n"
     ]
    }
   ],
   "source": [
    "trainprepDF.select(\"tenure_bin\").show()"
   ]
  },
  {
   "cell_type": "markdown",
   "metadata": {},
   "source": [
    "## Fitting a model "
   ]
  },
  {
   "cell_type": "code",
   "execution_count": 37,
   "metadata": {},
   "outputs": [],
   "source": [
    "from pyspark.ml.classification import LogisticRegression\n",
    "\n",
    "# Create initial LogisticRegression model\n",
    "lr = LogisticRegression(labelCol=\"label\", featuresCol=\"features\", maxIter=10)\n",
    "\n",
    "# Train model with Training Data\n",
    "lrModel = lr.fit(trainprepDF)"
   ]
  },
  {
   "cell_type": "code",
   "execution_count": 38,
   "metadata": {},
   "outputs": [
    {
     "name": "stdout",
     "output_type": "stream",
     "text": [
      "Coefficients: [-0.022125908958674067,-0.295966602853141,-0.04540190713043998,0.11422451989175594,-0.5443650552564775,-0.25787179594555176,0.06759355518729251,0.558940086914602,-0.3986256243196881,0.3000315276725239,-0.13495490629289175,0.1906494657387726,0.0034263879839864985,0.1139377637255167,0.0864700306602351,0.26398039586831734,-0.08866299958063091,0.005764718914013356,0.1946886963208213,-0.012545144725579329,0.21249251749087097,0.7226916232199266,-0.7941298473778351,0.30458357823925264,0.18868980558464654,-0.11391177062150766,-0.27808713414588604,-0.6330144913097795,-0.00011781853833584495,0.004850253631019678]\n",
      "Intercept: -1.1241531294140892\n"
     ]
    }
   ],
   "source": [
    "print(\"Coefficients: \" + str(lrModel.coefficients))\n",
    "print(\"Intercept: \" + str(lrModel.intercept))"
   ]
  },
  {
   "cell_type": "markdown",
   "metadata": {},
   "source": [
    "## Evaluator"
   ]
  },
  {
   "cell_type": "code",
   "execution_count": 41,
   "metadata": {},
   "outputs": [],
   "source": [
    "summary = lrModel.summary"
   ]
  },
  {
   "cell_type": "code",
   "execution_count": 42,
   "metadata": {},
   "outputs": [
    {
     "name": "stdout",
     "output_type": "stream",
     "text": [
      "Accuracy: 0.7971928397070789\n",
      "FPR: 0.3543249783512605\n",
      "TPR: 0.7971928397070789\n",
      "F-measure: 0.7916719573031158\n",
      "Precision: 0.7893734580163737\n",
      "Recall: 0.7971928397070789\n",
      "AreaUnderROC: 0.8462856449884067\n"
     ]
    }
   ],
   "source": [
    "# Metrics on the training dataset\n",
    "\n",
    "accuracy = summary.accuracy\n",
    "falsePositiveRate = summary.weightedFalsePositiveRate\n",
    "truePositiveRate = summary.weightedTruePositiveRate\n",
    "fMeasure = summary.weightedFMeasure()\n",
    "precision = summary.weightedPrecision\n",
    "recall = summary.weightedRecall\n",
    "print(\"Accuracy: %s\\nFPR: %s\\nTPR: %s\\nF-measure: %s\\nPrecision: %s\\nRecall: %s\\nAreaUnderROC: %s\"\n",
    "      % (accuracy, falsePositiveRate, truePositiveRate, fMeasure, precision, recall, summary.areaUnderROC))"
   ]
  },
  {
   "cell_type": "code",
   "execution_count": 62,
   "metadata": {},
   "outputs": [
    {
     "data": {
      "text/html": [
       "<div>\n",
       "<style scoped>\n",
       "    .dataframe tbody tr th:only-of-type {\n",
       "        vertical-align: middle;\n",
       "    }\n",
       "\n",
       "    .dataframe tbody tr th {\n",
       "        vertical-align: top;\n",
       "    }\n",
       "\n",
       "    .dataframe thead th {\n",
       "        text-align: right;\n",
       "    }\n",
       "</style>\n",
       "<table border=\"1\" class=\"dataframe\">\n",
       "  <thead>\n",
       "    <tr style=\"text-align: right;\">\n",
       "      <th></th>\n",
       "      <th>customerID</th>\n",
       "      <th>gender</th>\n",
       "      <th>SeniorCitizen</th>\n",
       "      <th>Partner</th>\n",
       "      <th>Dependents</th>\n",
       "      <th>tenure</th>\n",
       "      <th>PhoneService</th>\n",
       "      <th>MultipleLines</th>\n",
       "      <th>InternetService</th>\n",
       "      <th>OnlineSecurity</th>\n",
       "      <th>...</th>\n",
       "      <th>PaperlessBillingcatVec</th>\n",
       "      <th>PaymentMethodIndex</th>\n",
       "      <th>PaymentMethodcatVec</th>\n",
       "      <th>Out_TotalCharges</th>\n",
       "      <th>label</th>\n",
       "      <th>tenure_bin</th>\n",
       "      <th>features</th>\n",
       "      <th>rawPrediction</th>\n",
       "      <th>probability</th>\n",
       "      <th>prediction</th>\n",
       "    </tr>\n",
       "  </thead>\n",
       "  <tbody>\n",
       "    <tr>\n",
       "      <th>0</th>\n",
       "      <td>0002-ORFBO</td>\n",
       "      <td>Female</td>\n",
       "      <td>0</td>\n",
       "      <td>Yes</td>\n",
       "      <td>Yes</td>\n",
       "      <td>9</td>\n",
       "      <td>Yes</td>\n",
       "      <td>No</td>\n",
       "      <td>DSL</td>\n",
       "      <td>No</td>\n",
       "      <td>...</td>\n",
       "      <td>(1.0)</td>\n",
       "      <td>1.0</td>\n",
       "      <td>(0.0, 1.0, 0.0)</td>\n",
       "      <td>593.30</td>\n",
       "      <td>0.0</td>\n",
       "      <td>0.0</td>\n",
       "      <td>(1.0, 1.0, 0.0, 0.0, 1.0, 1.0, 0.0, 0.0, 1.0, ...</td>\n",
       "      <td>[1.6932851783330047, -1.6932851783330047]</td>\n",
       "      <td>[0.8446557043895172, 0.15534429561048285]</td>\n",
       "      <td>0.0</td>\n",
       "    </tr>\n",
       "    <tr>\n",
       "      <th>1</th>\n",
       "      <td>0003-MKNFE</td>\n",
       "      <td>Male</td>\n",
       "      <td>0</td>\n",
       "      <td>No</td>\n",
       "      <td>No</td>\n",
       "      <td>9</td>\n",
       "      <td>Yes</td>\n",
       "      <td>Yes</td>\n",
       "      <td>DSL</td>\n",
       "      <td>No</td>\n",
       "      <td>...</td>\n",
       "      <td>(0.0)</td>\n",
       "      <td>1.0</td>\n",
       "      <td>(0.0, 1.0, 0.0)</td>\n",
       "      <td>542.40</td>\n",
       "      <td>0.0</td>\n",
       "      <td>0.0</td>\n",
       "      <td>(0.0, 1.0, 1.0, 1.0, 1.0, 0.0, 1.0, 0.0, 1.0, ...</td>\n",
       "      <td>[0.30443258458163713, -0.30443258458163713]</td>\n",
       "      <td>[0.5755257397472802, 0.42447426025271984]</td>\n",
       "      <td>0.0</td>\n",
       "    </tr>\n",
       "    <tr>\n",
       "      <th>2</th>\n",
       "      <td>0011-IGKFF</td>\n",
       "      <td>Male</td>\n",
       "      <td>1</td>\n",
       "      <td>Yes</td>\n",
       "      <td>No</td>\n",
       "      <td>13</td>\n",
       "      <td>Yes</td>\n",
       "      <td>No</td>\n",
       "      <td>Fiber optic</td>\n",
       "      <td>No</td>\n",
       "      <td>...</td>\n",
       "      <td>(1.0)</td>\n",
       "      <td>0.0</td>\n",
       "      <td>(1.0, 0.0, 0.0)</td>\n",
       "      <td>1237.85</td>\n",
       "      <td>1.0</td>\n",
       "      <td>0.0</td>\n",
       "      <td>(0.0, 0.0, 0.0, 1.0, 1.0, 1.0, 0.0, 1.0, 0.0, ...</td>\n",
       "      <td>[-1.3533123673917233, 1.3533123673917233]</td>\n",
       "      <td>[0.20532936784584072, 0.7946706321541593]</td>\n",
       "      <td>1.0</td>\n",
       "    </tr>\n",
       "    <tr>\n",
       "      <th>3</th>\n",
       "      <td>0013-MHZWF</td>\n",
       "      <td>Female</td>\n",
       "      <td>0</td>\n",
       "      <td>No</td>\n",
       "      <td>Yes</td>\n",
       "      <td>9</td>\n",
       "      <td>Yes</td>\n",
       "      <td>No</td>\n",
       "      <td>DSL</td>\n",
       "      <td>No</td>\n",
       "      <td>...</td>\n",
       "      <td>(1.0)</td>\n",
       "      <td>2.0</td>\n",
       "      <td>(0.0, 0.0, 1.0)</td>\n",
       "      <td>571.45</td>\n",
       "      <td>0.0</td>\n",
       "      <td>0.0</td>\n",
       "      <td>(1.0, 1.0, 1.0, 0.0, 1.0, 1.0, 0.0, 0.0, 1.0, ...</td>\n",
       "      <td>[0.7469047869361469, -0.7469047869361469]</td>\n",
       "      <td>[0.6785038940384932, 0.3214961059615068]</td>\n",
       "      <td>0.0</td>\n",
       "    </tr>\n",
       "    <tr>\n",
       "      <th>4</th>\n",
       "      <td>0013-SMEOE</td>\n",
       "      <td>Female</td>\n",
       "      <td>1</td>\n",
       "      <td>Yes</td>\n",
       "      <td>No</td>\n",
       "      <td>71</td>\n",
       "      <td>Yes</td>\n",
       "      <td>No</td>\n",
       "      <td>Fiber optic</td>\n",
       "      <td>Yes</td>\n",
       "      <td>...</td>\n",
       "      <td>(1.0)</td>\n",
       "      <td>3.0</td>\n",
       "      <td>(0.0, 0.0, 0.0)</td>\n",
       "      <td>7904.25</td>\n",
       "      <td>0.0</td>\n",
       "      <td>2.0</td>\n",
       "      <td>(1.0, 0.0, 0.0, 1.0, 1.0, 1.0, 0.0, 1.0, 0.0, ...</td>\n",
       "      <td>[3.1566611662624284, -3.1566611662624284]</td>\n",
       "      <td>[0.9591703894511711, 0.040829610548828846]</td>\n",
       "      <td>0.0</td>\n",
       "    </tr>\n",
       "  </tbody>\n",
       "</table>\n",
       "<p>5 rows × 60 columns</p>\n",
       "</div>"
      ],
      "text/plain": [
       "   customerID  gender  SeniorCitizen Partner Dependents  tenure PhoneService  \\\n",
       "0  0002-ORFBO  Female              0     Yes        Yes       9          Yes   \n",
       "1  0003-MKNFE    Male              0      No         No       9          Yes   \n",
       "2  0011-IGKFF    Male              1     Yes         No      13          Yes   \n",
       "3  0013-MHZWF  Female              0      No        Yes       9          Yes   \n",
       "4  0013-SMEOE  Female              1     Yes         No      71          Yes   \n",
       "\n",
       "  MultipleLines InternetService OnlineSecurity  ... PaperlessBillingcatVec  \\\n",
       "0            No             DSL             No  ...                  (1.0)   \n",
       "1           Yes             DSL             No  ...                  (0.0)   \n",
       "2            No     Fiber optic             No  ...                  (1.0)   \n",
       "3            No             DSL             No  ...                  (1.0)   \n",
       "4            No     Fiber optic            Yes  ...                  (1.0)   \n",
       "\n",
       "  PaymentMethodIndex PaymentMethodcatVec Out_TotalCharges label tenure_bin  \\\n",
       "0                1.0     (0.0, 1.0, 0.0)           593.30   0.0        0.0   \n",
       "1                1.0     (0.0, 1.0, 0.0)           542.40   0.0        0.0   \n",
       "2                0.0     (1.0, 0.0, 0.0)          1237.85   1.0        0.0   \n",
       "3                2.0     (0.0, 0.0, 1.0)           571.45   0.0        0.0   \n",
       "4                3.0     (0.0, 0.0, 0.0)          7904.25   0.0        2.0   \n",
       "\n",
       "                                            features  \\\n",
       "0  (1.0, 1.0, 0.0, 0.0, 1.0, 1.0, 0.0, 0.0, 1.0, ...   \n",
       "1  (0.0, 1.0, 1.0, 1.0, 1.0, 0.0, 1.0, 0.0, 1.0, ...   \n",
       "2  (0.0, 0.0, 0.0, 1.0, 1.0, 1.0, 0.0, 1.0, 0.0, ...   \n",
       "3  (1.0, 1.0, 1.0, 0.0, 1.0, 1.0, 0.0, 0.0, 1.0, ...   \n",
       "4  (1.0, 0.0, 0.0, 1.0, 1.0, 1.0, 0.0, 1.0, 0.0, ...   \n",
       "\n",
       "                                 rawPrediction  \\\n",
       "0    [1.6932851783330047, -1.6932851783330047]   \n",
       "1  [0.30443258458163713, -0.30443258458163713]   \n",
       "2    [-1.3533123673917233, 1.3533123673917233]   \n",
       "3    [0.7469047869361469, -0.7469047869361469]   \n",
       "4    [3.1566611662624284, -3.1566611662624284]   \n",
       "\n",
       "                                  probability  prediction  \n",
       "0   [0.8446557043895172, 0.15534429561048285]         0.0  \n",
       "1   [0.5755257397472802, 0.42447426025271984]         0.0  \n",
       "2   [0.20532936784584072, 0.7946706321541593]         1.0  \n",
       "3    [0.6785038940384932, 0.3214961059615068]         0.0  \n",
       "4  [0.9591703894511711, 0.040829610548828846]         0.0  \n",
       "\n",
       "[5 rows x 60 columns]"
      ]
     },
     "execution_count": 62,
     "metadata": {},
     "output_type": "execute_result"
    }
   ],
   "source": [
    "from pyspark.ml.evaluation import BinaryClassificationEvaluator\n",
    "predictions = lrModel.transform(testprepDF)\n",
    "predictions.toPandas().head()"
   ]
  },
  {
   "cell_type": "code",
   "execution_count": 63,
   "metadata": {},
   "outputs": [
    {
     "name": "stdout",
     "output_type": "stream",
     "text": [
      "areaUnderROC = 0.723089\n"
     ]
    }
   ],
   "source": [
    "evaluatorLR = BinaryClassificationEvaluator(rawPredictionCol=\"prediction\")\n",
    "area_under_curve = evaluatorLR.evaluate(predictions)\n",
    "\n",
    "#default evaluation is areaUnderROC\n",
    "print(\"areaUnderROC = %g\" % area_under_curve)\n"
   ]
  },
  {
   "cell_type": "code",
   "execution_count": 53,
   "metadata": {},
   "outputs": [
    {
     "name": "stdout",
     "output_type": "stream",
     "text": [
      "Area under PR = 0.5264394725677182\n",
      "Area under ROC = 0.7230887671429083\n"
     ]
    }
   ],
   "source": [
    "from pyspark.mllib.evaluation import BinaryClassificationMetrics\n",
    "\n",
    "results = predictions.select(['prediction', 'label'])\n",
    " \n",
    "## prepare score-label set\n",
    "results_collect = results.collect()\n",
    "results_list = [(float(i[0]), float(i[1])) for i in results_collect]\n",
    "predictionAndLabels = sc.parallelize(results_list)\n",
    " \n",
    "metrics = BinaryClassificationMetrics(predictionAndLabels)\n",
    "\n",
    "# Area under precision-recall curve\n",
    "print(\"Area under PR = %s\" % metrics.areaUnderPR)\n",
    "\n",
    "# Area under ROC curve\n",
    "print(\"Area under ROC = %s\" % metrics.areaUnderROC)\n"
   ]
  },
  {
   "cell_type": "markdown",
   "metadata": {},
   "source": [
    "## Cross-Validation to improve above model"
   ]
  },
  {
   "cell_type": "code",
   "execution_count": 54,
   "metadata": {},
   "outputs": [],
   "source": [
    "from pyspark.ml.tuning import ParamGridBuilder, CrossValidator\n",
    "\n",
    "# Create ParamGrid for Cross Validation\n",
    "paramGrid = (ParamGridBuilder()\n",
    "             .addGrid(lr.regParam, [0.01, 0.5, 2.0])\n",
    "             .addGrid(lr.elasticNetParam, [0.0, 0.5, 1.0])\n",
    "             .addGrid(lr.maxIter, [5, 10, 20])\n",
    "             .build())"
   ]
  },
  {
   "cell_type": "code",
   "execution_count": 55,
   "metadata": {},
   "outputs": [],
   "source": [
    "cv = CrossValidator(estimator=lr, estimatorParamMaps=paramGrid, evaluator=evaluatorLR, numFolds=5)\n",
    "\n",
    "# Run cross validations\n",
    "cvModel = cv.fit(trainprepDF)"
   ]
  },
  {
   "cell_type": "code",
   "execution_count": 56,
   "metadata": {},
   "outputs": [],
   "source": [
    "predictions = cvModel.bestModel.transform(testprepDF)"
   ]
  },
  {
   "cell_type": "code",
   "execution_count": 65,
   "metadata": {},
   "outputs": [
    {
     "data": {
      "text/html": [
       "<div>\n",
       "<style scoped>\n",
       "    .dataframe tbody tr th:only-of-type {\n",
       "        vertical-align: middle;\n",
       "    }\n",
       "\n",
       "    .dataframe tbody tr th {\n",
       "        vertical-align: top;\n",
       "    }\n",
       "\n",
       "    .dataframe thead th {\n",
       "        text-align: right;\n",
       "    }\n",
       "</style>\n",
       "<table border=\"1\" class=\"dataframe\">\n",
       "  <thead>\n",
       "    <tr style=\"text-align: right;\">\n",
       "      <th></th>\n",
       "      <th>customerID</th>\n",
       "      <th>gender</th>\n",
       "      <th>SeniorCitizen</th>\n",
       "      <th>Partner</th>\n",
       "      <th>Dependents</th>\n",
       "      <th>tenure</th>\n",
       "      <th>PhoneService</th>\n",
       "      <th>MultipleLines</th>\n",
       "      <th>InternetService</th>\n",
       "      <th>OnlineSecurity</th>\n",
       "      <th>...</th>\n",
       "      <th>PaperlessBillingcatVec</th>\n",
       "      <th>PaymentMethodIndex</th>\n",
       "      <th>PaymentMethodcatVec</th>\n",
       "      <th>Out_TotalCharges</th>\n",
       "      <th>label</th>\n",
       "      <th>tenure_bin</th>\n",
       "      <th>features</th>\n",
       "      <th>rawPrediction</th>\n",
       "      <th>probability</th>\n",
       "      <th>prediction</th>\n",
       "    </tr>\n",
       "  </thead>\n",
       "  <tbody>\n",
       "    <tr>\n",
       "      <th>0</th>\n",
       "      <td>0002-ORFBO</td>\n",
       "      <td>Female</td>\n",
       "      <td>0</td>\n",
       "      <td>Yes</td>\n",
       "      <td>Yes</td>\n",
       "      <td>9</td>\n",
       "      <td>Yes</td>\n",
       "      <td>No</td>\n",
       "      <td>DSL</td>\n",
       "      <td>No</td>\n",
       "      <td>...</td>\n",
       "      <td>(1.0)</td>\n",
       "      <td>1.0</td>\n",
       "      <td>(0.0, 1.0, 0.0)</td>\n",
       "      <td>593.3</td>\n",
       "      <td>0.0</td>\n",
       "      <td>0.0</td>\n",
       "      <td>(1.0, 1.0, 0.0, 0.0, 1.0, 1.0, 0.0, 0.0, 1.0, ...</td>\n",
       "      <td>[1.6932851783330047, -1.6932851783330047]</td>\n",
       "      <td>[0.8446557043895172, 0.15534429561048285]</td>\n",
       "      <td>0.0</td>\n",
       "    </tr>\n",
       "  </tbody>\n",
       "</table>\n",
       "<p>1 rows × 60 columns</p>\n",
       "</div>"
      ],
      "text/plain": [
       "   customerID  gender  SeniorCitizen Partner Dependents  tenure PhoneService  \\\n",
       "0  0002-ORFBO  Female              0     Yes        Yes       9          Yes   \n",
       "\n",
       "  MultipleLines InternetService OnlineSecurity  ... PaperlessBillingcatVec  \\\n",
       "0            No             DSL             No  ...                  (1.0)   \n",
       "\n",
       "  PaymentMethodIndex PaymentMethodcatVec Out_TotalCharges label tenure_bin  \\\n",
       "0                1.0     (0.0, 1.0, 0.0)            593.3   0.0        0.0   \n",
       "\n",
       "                                            features  \\\n",
       "0  (1.0, 1.0, 0.0, 0.0, 1.0, 1.0, 0.0, 0.0, 1.0, ...   \n",
       "\n",
       "                               rawPrediction  \\\n",
       "0  [1.6932851783330047, -1.6932851783330047]   \n",
       "\n",
       "                                 probability  prediction  \n",
       "0  [0.8446557043895172, 0.15534429561048285]         0.0  \n",
       "\n",
       "[1 rows x 60 columns]"
      ]
     },
     "execution_count": 65,
     "metadata": {},
     "output_type": "execute_result"
    }
   ],
   "source": [
    "predictions.toPandas().head(1)"
   ]
  },
  {
   "cell_type": "code",
   "execution_count": 67,
   "metadata": {},
   "outputs": [
    {
     "data": {
      "text/plain": [
       "0.7230887671429083"
      ]
     },
     "execution_count": 67,
     "metadata": {},
     "output_type": "execute_result"
    }
   ],
   "source": [
    "evaluatorLR.evaluate(predictions)"
   ]
  }
 ],
 "metadata": {
  "kernelspec": {
   "display_name": "Python 3",
   "language": "python",
   "name": "python3"
  },
  "language_info": {
   "codemirror_mode": {
    "name": "ipython",
    "version": 3
   },
   "file_extension": ".py",
   "mimetype": "text/x-python",
   "name": "python",
   "nbconvert_exporter": "python",
   "pygments_lexer": "ipython3",
   "version": "3.7.7"
  }
 },
 "nbformat": 4,
 "nbformat_minor": 4
}
